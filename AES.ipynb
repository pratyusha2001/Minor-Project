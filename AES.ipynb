{
 "cells": [
  {
   "cell_type": "code",
   "execution_count": 1,
   "id": "a806fb7a",
   "metadata": {},
   "outputs": [
    {
     "name": "stdout",
     "output_type": "stream",
     "text": [
      "Requirement already satisfied: pycryptodome in c:\\python310\\lib\\site-packages (3.19.0)Note: you may need to restart the kernel to use updated packages.\n",
      "\n"
     ]
    },
    {
     "name": "stderr",
     "output_type": "stream",
     "text": [
      "\n",
      "[notice] A new release of pip is available: 23.1 -> 23.2.1\n",
      "[notice] To update, run: python.exe -m pip install --upgrade pip\n"
     ]
    }
   ],
   "source": [
    "pip install pycryptodome"
   ]
  },
  {
   "cell_type": "code",
   "execution_count": 12,
   "id": "4e7d166c",
   "metadata": {},
   "outputs": [
    {
     "name": "stdout",
     "output_type": "stream",
     "text": [
      "Encrypted img saved as AES_enc.bmp\n",
      "Decrypted img saved as AES_dec.png\n"
     ]
    }
   ],
   "source": [
    "import sys\n",
    "import cv2\n",
    "import numpy as np\n",
    "from Crypto.Cipher import AES\n",
    "from Crypto.Util.Padding import pad, unpad\n",
    "from Crypto.Random import get_random_bytes\n",
    "\n",
    "# This program encrypts a jpg With AES-256. The encrypted image contains more data than the original image (e.g. because of \n",
    "# padding, IV etc.). Therefore the encrypted image has one row more. Supported are CBC and ECB mode.\n",
    "\n",
    "# Set mode\n",
    "mode = AES.MODE_CBC\n",
    "#mode = AES.MODE_ECB\n",
    "if mode != AES.MODE_CBC and mode != AES.MODE_ECB:\n",
    "    print('Only CBC and ECB mode supported...')\n",
    "    sys.exit()\n",
    "\n",
    "# Set sizes\n",
    "keySize = 32\n",
    "ivSize = AES.block_size if mode == AES.MODE_CBC else 0\n",
    "\n",
    "#\n",
    "# Start Encryption ----------------------------------------------------------------------------------------------\n",
    "#\n",
    "\n",
    "# Load original image\n",
    "imageOrig = cv2.imread(\"HorizonZero.png\")\n",
    "rowOrig, columnOrig, depthOrig = imageOrig.shape\n",
    "\n",
    "# Check for minimum width\n",
    "minWidth = (AES.block_size + AES.block_size) // depthOrig + 1\n",
    "if columnOrig < minWidth:\n",
    "    print('The minimum width of the image must be {} pixels, so that IV and padding can be stored in a single additional row!'.format(minWidth))\n",
    "    sys.exit()\n",
    "\n",
    "# Convert original image data to bytes\n",
    "imageOrigBytes = imageOrig.tobytes()\n",
    "\n",
    "# Encrypt\n",
    "key = get_random_bytes(keySize)\n",
    "iv = get_random_bytes(ivSize)\n",
    "cipher = AES.new(key, AES.MODE_CBC, iv) if mode == AES.MODE_CBC else AES.new(key, AES.MODE_ECB)\n",
    "imageOrigBytesPadded = pad(imageOrigBytes, AES.block_size)\n",
    "ciphertext = cipher.encrypt(imageOrigBytesPadded)\n",
    "\n",
    "# Convert ciphertext bytes to encrypted image data\n",
    "#    The additional row contains columnOrig * DepthOrig bytes. Of this, ivSize + paddedSize bytes are used \n",
    "#    and void = columnOrig * DepthOrig - ivSize - paddedSize bytes unused\n",
    "paddedSize = len(imageOrigBytesPadded) - len(imageOrigBytes)\n",
    "void = columnOrig * depthOrig - ivSize - paddedSize\n",
    "ivCiphertextVoid = iv + ciphertext + bytes(void)\n",
    "imageEncrypted = np.frombuffer(ivCiphertextVoid, dtype = imageOrig.dtype).reshape(rowOrig + 1, columnOrig, depthOrig)\n",
    "\n",
    "\n",
    "# Save the encrypted image (optional)\n",
    "cv2.imwrite(\"AES_enc.bmp\", imageEncrypted)\n",
    "imageEncrypted = cv2.imread(\"AES_enc.bmp\")\n",
    "print(\"Encrypted img saved as AES_enc.bmp\")\n",
    "\n",
    "#\n",
    "# Start Decryption ----------------------------------------------------------------------------------------------\n",
    "#\n",
    "\n",
    "# Convert encrypted image data to ciphertext bytes\n",
    "rowEncrypted, columnOrig, depthOrig = imageEncrypted.shape \n",
    "rowOrig = rowEncrypted - 1\n",
    "encryptedBytes = imageEncrypted.tobytes()\n",
    "iv = encryptedBytes[:ivSize]\n",
    "imageOrigBytesSize = rowOrig * columnOrig * depthOrig\n",
    "paddedSize = (imageOrigBytesSize // AES.block_size + 1) * AES.block_size - imageOrigBytesSize\n",
    "encrypted = encryptedBytes[ivSize : ivSize + imageOrigBytesSize + paddedSize]\n",
    "\n",
    "# Decrypt\n",
    "cipher = AES.new(key, AES.MODE_CBC, iv) if mode == AES.MODE_CBC else AES.new(key, AES.MODE_ECB)\n",
    "decryptedImageBytesPadded = cipher.decrypt(encrypted)\n",
    "decryptedImageBytes = unpad(decryptedImageBytesPadded, AES.block_size)\n",
    "\n",
    "# Convert bytes to decrypted image data\n",
    "decryptedImage = np.frombuffer(decryptedImageBytes, imageEncrypted.dtype).reshape(rowOrig, columnOrig, depthOrig)\n",
    "\n",
    "cv2.imwrite(\"AES_dec.png\", decryptedImage)\n",
    "decryptedImage = cv2.imread(\"AES_dec.png\")\n",
    "print(\"Decrypted img saved as AES_dec.png\")\n",
    "\n",
    "# Close all windows\n",
    "cv2.destroyAllWindows()"
   ]
  },
  {
   "cell_type": "code",
   "execution_count": 3,
   "id": "59463e2b",
   "metadata": {},
   "outputs": [
    {
     "name": "stdout",
     "output_type": "stream",
     "text": [
      "Requirement already satisfied: scikit-image in c:\\python310\\lib\\site-packages (0.21.0)Note: you may need to restart the kernel to use updated packages.\n",
      "\n",
      "Requirement already satisfied: numpy>=1.21.1 in c:\\python310\\lib\\site-packages (from scikit-image) (1.24.1)\n",
      "Requirement already satisfied: scipy>=1.8 in c:\\python310\\lib\\site-packages (from scikit-image) (1.10.1)\n",
      "Requirement already satisfied: networkx>=2.8 in c:\\python310\\lib\\site-packages (from scikit-image) (2.8.8)\n",
      "Requirement already satisfied: pillow>=9.0.1 in c:\\python310\\lib\\site-packages (from scikit-image) (9.5.0)\n",
      "Requirement already satisfied: imageio>=2.27 in c:\\python310\\lib\\site-packages (from scikit-image) (2.31.4)\n",
      "Requirement already satisfied: tifffile>=2022.8.12 in c:\\python310\\lib\\site-packages (from scikit-image) (2023.9.18)\n",
      "Requirement already satisfied: PyWavelets>=1.1.1 in c:\\python310\\lib\\site-packages (from scikit-image) (1.4.1)\n",
      "Requirement already satisfied: packaging>=21 in c:\\python310\\lib\\site-packages (from scikit-image) (23.0)\n",
      "Requirement already satisfied: lazy_loader>=0.2 in c:\\python310\\lib\\site-packages (from scikit-image) (0.3)\n"
     ]
    },
    {
     "name": "stderr",
     "output_type": "stream",
     "text": [
      "\n",
      "[notice] A new release of pip is available: 23.1 -> 23.2.1\n",
      "[notice] To update, run: python.exe -m pip install --upgrade pip\n"
     ]
    }
   ],
   "source": [
    "pip install scikit-image"
   ]
  },
  {
   "cell_type": "code",
   "execution_count": 4,
   "id": "f6d4993d",
   "metadata": {},
   "outputs": [
    {
     "name": "stdout",
     "output_type": "stream",
     "text": [
      "Requirement already satisfied: imagehash in c:\\python310\\lib\\site-packages (4.3.1)\n",
      "Requirement already satisfied: PyWavelets in c:\\python310\\lib\\site-packages (from imagehash) (1.4.1)\n",
      "Requirement already satisfied: numpy in c:\\python310\\lib\\site-packages (from imagehash) (1.24.1)\n",
      "Requirement already satisfied: pillow in c:\\python310\\lib\\site-packages (from imagehash) (9.5.0)\n",
      "Requirement already satisfied: scipy in c:\\python310\\lib\\site-packages (from imagehash) (1.10.1)\n",
      "Note: you may need to restart the kernel to use updated packages.\n"
     ]
    },
    {
     "name": "stderr",
     "output_type": "stream",
     "text": [
      "\n",
      "[notice] A new release of pip is available: 23.1 -> 23.2.1\n",
      "[notice] To update, run: python.exe -m pip install --upgrade pip\n"
     ]
    }
   ],
   "source": [
    "pip install imagehash"
   ]
  },
  {
   "cell_type": "code",
   "execution_count": 11,
   "id": "64ec38ab",
   "metadata": {},
   "outputs": [
    {
     "name": "stdout",
     "output_type": "stream",
     "text": [
      "SSIM: 1.0\n",
      "MSE: 0.0\n",
      "PSNR: 100\n"
     ]
    }
   ],
   "source": [
    "from skimage.metrics import structural_similarity as ssim\n",
    "from math import log10, sqrt\n",
    "import matplotlib.pyplot as plt\n",
    "import numpy as np\n",
    "import cv2\n",
    "from collections import deque\n",
    "from PIL import Image\n",
    "import imagehash\n",
    "import matplotlib.pyplot as plt\n",
    "import hashlib\n",
    "import collections\n",
    "import ctypes\n",
    "import array\n",
    "import os\n",
    "import sys\n",
    "import time\n",
    "from skimage.metrics import structural_similarity as ssim\n",
    "from math import log10, sqrt\n",
    "import matplotlib.pyplot as plt\n",
    "import numpy as np\n",
    "import cv2\n",
    "\n",
    "def PSNR(original, compressed):\n",
    "    mse = np.mean((original - compressed) ** 2)\n",
    "    if(mse == 0):  # MSE is zero means no noise is present in the signal .\n",
    "                  # Therefore PSNR have no importance.\n",
    "        return 100\n",
    "    max_pixel = 255.0\n",
    "    psnr = 20 * log10(max_pixel / sqrt(mse))\n",
    "    return psnr\n",
    "\n",
    "def mse(imageA, imageB):\n",
    "    # the 'Mean Squared Error' between the two images is the\n",
    "    # sum of the squared difference between the two images;\n",
    "    # NOTE: the two images must have the same dimension\n",
    "    err = np.sum((imageA.astype(\"float\") - imageB.astype(\"float\")) ** 2)\n",
    "    err /= float(imageA.shape[0] * imageA.shape[1])\n",
    "    \n",
    "    # return the MSE, the lower the error, the more similar the two images are\n",
    "    return err\n",
    "\n",
    "original1 = cv2.imread(\"C:\\\\Users\\\\Pratyusha Routh\\\\Downloads\\\\Assignments & Notes\\\\Assignments & Notes\\\\Fourth Year\\\\Minor Project\\\\AES\\\\HorizonZero.png\")\n",
    "contrast1 = cv2.imread(\"C:\\\\Users\\\\Pratyusha Routh\\\\Downloads\\\\Assignments & Notes\\\\Assignments & Notes\\\\Fourth Year\\\\Minor Project\\\\AES\\\\AES_dec.png\")\n",
    "\n",
    "original = cv2.cvtColor(original1, cv2.COLOR_BGR2GRAY)\n",
    "contrast = cv2.cvtColor(contrast1, cv2.COLOR_BGR2GRAY)\n",
    "\n",
    "s = ssim(original, contrast)\n",
    "m = mse(original, contrast)\n",
    "p=PSNR(original, contrast)\n",
    "\n",
    "print(\"SSIM:\",s);\n",
    "print(\"MSE:\",m);\n",
    "print(\"PSNR:\",p);"
   ]
  },
  {
   "cell_type": "code",
   "execution_count": null,
   "id": "1edca577",
   "metadata": {},
   "outputs": [],
   "source": []
  }
 ],
 "metadata": {
  "kernelspec": {
   "display_name": "Python 3 (ipykernel)",
   "language": "python",
   "name": "python3"
  },
  "language_info": {
   "codemirror_mode": {
    "name": "ipython",
    "version": 3
   },
   "file_extension": ".py",
   "mimetype": "text/x-python",
   "name": "python",
   "nbconvert_exporter": "python",
   "pygments_lexer": "ipython3",
   "version": "3.10.4"
  }
 },
 "nbformat": 4,
 "nbformat_minor": 5
}
